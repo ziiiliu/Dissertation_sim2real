{
 "cells": [
  {
   "cell_type": "code",
   "execution_count": 15,
   "id": "c3a62147",
   "metadata": {},
   "outputs": [],
   "source": [
    "import pandas as pd\n",
    "import numpy as np\n",
    "from datetime import datetime\n",
    "\n",
    "cur_state_file = \"../second_collection_slower/current_state.csv\"\n",
    "ref_state_file = \"../second_collection_slower/reference_state.csv\"\n",
    "\n",
    "def read_csv(cur_state_file, ref_state_file):\n",
    "    \n",
    "    cur_states = pd.read_csv(cur_state_file)\n",
    "    cur_states['timestamp'] = cur_states['time'].apply(lambda t: datetime.strptime(t[:-3], \"%Y/%m/%d %H:%M:%S.%f\"))\n",
    "    cur_states['ref_state'] = np.nan\n",
    "    cur_states = cur_states.sort_values(by='timestamp')\n",
    "    cur_states.reset_index(drop=True, inplace=True)\n",
    "    cur_states['state_vector'] = cur_states['state_vector'].apply(lambda s: eval(s)[3:5] + [eval(s)[8]])\n",
    "    \n",
    "    ref_states = pd.read_csv(ref_state_file)\n",
    "    ref_states['timestamp'] = ref_states['time'].apply(lambda t: datetime.strptime(t[:-3], \"%Y/%m/%d %H:%M:%S.%f\"))\n",
    "    \n",
    "    return cur_states, ref_states\n",
    "\n",
    "cur_states, ref_states = read_csv(cur_state_file, ref_state_file)"
   ]
  },
  {
   "cell_type": "code",
   "execution_count": 16,
   "id": "22ad4d55",
   "metadata": {
    "scrolled": true
   },
   "outputs": [
    {
     "name": "stdout",
     "output_type": "stream",
     "text": [
      "0 2022-04-18 11:33:36.246314 2022-04-18 11:33:36.612339\n",
      "1 2022-04-18 11:33:36.251873 2022-04-18 11:33:36.612339\n",
      "2 2022-04-18 11:33:36.257399 2022-04-18 11:33:36.612339\n",
      "3 2022-04-18 11:33:36.262923 2022-04-18 11:33:36.612339\n",
      "4 2022-04-18 11:33:36.269033 2022-04-18 11:33:36.612339\n",
      "5 2022-04-18 11:33:36.274107 2022-04-18 11:33:36.612339\n",
      "6 2022-04-18 11:33:36.279646 2022-04-18 11:33:36.612339\n",
      "7 2022-04-18 11:33:36.285180 2022-04-18 11:33:36.612339\n",
      "8 2022-04-18 11:33:36.290723 2022-04-18 11:33:36.612339\n",
      "9 2022-04-18 11:33:36.296344 2022-04-18 11:33:36.612339\n",
      "10 2022-04-18 11:33:36.301875 2022-04-18 11:33:36.612339\n",
      "11 2022-04-18 11:33:36.307445 2022-04-18 11:33:36.612339\n",
      "12 2022-04-18 11:33:36.312962 2022-04-18 11:33:36.612339\n",
      "13 2022-04-18 11:33:36.318499 2022-04-18 11:33:36.612339\n",
      "14 2022-04-18 11:33:36.324064 2022-04-18 11:33:36.612339\n",
      "15 2022-04-18 11:33:36.329784 2022-04-18 11:33:36.612339\n",
      "16 2022-04-18 11:33:36.335245 2022-04-18 11:33:36.612339\n",
      "17 2022-04-18 11:33:36.340761 2022-04-18 11:33:36.612339\n",
      "18 2022-04-18 11:33:36.346299 2022-04-18 11:33:36.612339\n",
      "19 2022-04-18 11:33:36.351860 2022-04-18 11:33:36.612339\n",
      "20 2022-04-18 11:33:36.357412 2022-04-18 11:33:36.612339\n",
      "21 2022-04-18 11:33:36.362982 2022-04-18 11:33:36.612339\n",
      "22 2022-04-18 11:33:36.368553 2022-04-18 11:33:36.612339\n",
      "23 2022-04-18 11:33:36.374063 2022-04-18 11:33:36.612339\n",
      "24 2022-04-18 11:33:36.379617 2022-04-18 11:33:36.612339\n",
      "25 2022-04-18 11:33:36.385165 2022-04-18 11:33:36.612339\n",
      "26 2022-04-18 11:33:36.390732 2022-04-18 11:33:36.612339\n",
      "27 2022-04-18 11:33:36.396321 2022-04-18 11:33:36.612339\n",
      "28 2022-04-18 11:33:36.401861 2022-04-18 11:33:36.612339\n",
      "29 2022-04-18 11:33:36.407404 2022-04-18 11:33:36.612339\n",
      "30 2022-04-18 11:33:36.412947 2022-04-18 11:33:36.612339\n",
      "31 2022-04-18 11:33:36.418575 2022-04-18 11:33:36.612339\n",
      "32 2022-04-18 11:33:36.424085 2022-04-18 11:33:36.612339\n",
      "33 2022-04-18 11:33:36.429701 2022-04-18 11:33:36.612339\n",
      "34 2022-04-18 11:33:36.435192 2022-04-18 11:33:36.612339\n",
      "35 2022-04-18 11:33:36.440732 2022-04-18 11:33:36.612339\n",
      "36 2022-04-18 11:33:36.446284 2022-04-18 11:33:36.612339\n",
      "37 2022-04-18 11:33:36.451852 2022-04-18 11:33:36.612339\n",
      "38 2022-04-18 11:33:36.457430 2022-04-18 11:33:36.612339\n",
      "39 2022-04-18 11:33:36.463272 2022-04-18 11:33:36.612339\n",
      "40 2022-04-18 11:33:36.468778 2022-04-18 11:33:36.612339\n",
      "41 2022-04-18 11:33:36.474084 2022-04-18 11:33:36.612339\n",
      "42 2022-04-18 11:33:36.479631 2022-04-18 11:33:36.612339\n",
      "43 2022-04-18 11:33:36.485170 2022-04-18 11:33:36.612339\n",
      "44 2022-04-18 11:33:36.490826 2022-04-18 11:33:36.612339\n",
      "45 2022-04-18 11:33:36.496307 2022-04-18 11:33:36.612339\n",
      "46 2022-04-18 11:33:36.501856 2022-04-18 11:33:36.612339\n",
      "47 2022-04-18 11:33:36.507400 2022-04-18 11:33:36.612339\n",
      "48 2022-04-18 11:33:36.512947 2022-04-18 11:33:36.612339\n",
      "49 2022-04-18 11:33:36.518529 2022-04-18 11:33:36.612339\n",
      "50 2022-04-18 11:33:36.524123 2022-04-18 11:33:36.612339\n",
      "51 2022-04-18 11:33:36.529642 2022-04-18 11:33:36.612339\n",
      "52 2022-04-18 11:33:36.535198 2022-04-18 11:33:36.612339\n",
      "53 2022-04-18 11:33:36.540951 2022-04-18 11:33:36.612339\n",
      "54 2022-04-18 11:33:36.546315 2022-04-18 11:33:36.612339\n",
      "55 2022-04-18 11:33:36.551865 2022-04-18 11:33:36.612339\n",
      "56 2022-04-18 11:33:36.557428 2022-04-18 11:33:36.612339\n",
      "57 2022-04-18 11:33:36.562992 2022-04-18 11:33:36.612339\n",
      "58 2022-04-18 11:33:36.568498 2022-04-18 11:33:36.612339\n",
      "59 2022-04-18 11:33:36.574120 2022-04-18 11:33:36.612339\n",
      "60 2022-04-18 11:33:36.579609 2022-04-18 11:33:36.612339\n",
      "61 2022-04-18 11:33:36.585424 2022-04-18 11:33:36.612339\n",
      "62 2022-04-18 11:33:36.590729 2022-04-18 11:33:36.612339\n",
      "63 2022-04-18 11:33:36.596303 2022-04-18 11:33:36.612339\n",
      "64 2022-04-18 11:33:36.601848 2022-04-18 11:33:36.612339\n",
      "65 2022-04-18 11:33:36.607465 2022-04-18 11:33:36.612339\n"
     ]
    }
   ],
   "source": [
    "def match_cur_ref(cur_states, ref_states):\n",
    "\n",
    "    ref_index = 0\n",
    "    ref_timestamp = ref_states['timestamp'][0]\n",
    "    refs = []\n",
    "    ref_size = len(ref_states)\n",
    "\n",
    "    for cur_index, row in cur_states.iterrows():\n",
    "        if ref_index + 1>= ref_size:\n",
    "            refs.append(ref_states[['vn', 've', 'yaw']].iloc[ref_index].tolist())\n",
    "        elif row['timestamp'] > ref_states['timestamp'][ref_index+1]:\n",
    "            ref_index += 1\n",
    "            refs.append(ref_states[['vn', 've', 'yaw']].iloc[ref_index].tolist())\n",
    "        elif row['timestamp'] > ref_states['timestamp'][ref_index]:\n",
    "            refs.append(ref_states[['vn', 've', 'yaw']].iloc[ref_index].tolist())\n",
    "        else:\n",
    "            # Error msg\n",
    "            print(cur_index, row['timestamp'], ref_states['timestamp'][ref_index])\n",
    "            refs.append(np.nan)\n",
    "    cur_states['ref_state'] = refs\n",
    "    return\n",
    "match_cur_ref(cur_states, ref_states)"
   ]
  },
  {
   "cell_type": "code",
   "execution_count": 18,
   "id": "9948dcea",
   "metadata": {},
   "outputs": [],
   "source": [
    "cur_states.to_csv(\"processed_states.csv\")"
   ]
  },
  {
   "cell_type": "code",
   "execution_count": 22,
   "id": "8dc2546b",
   "metadata": {},
   "outputs": [],
   "source": [
    "cur_states_dropna = cur_states.dropna()\n",
    "cur_states_list = cur_states_dropna[\"state_vector\"].tolist()\n",
    "ref_states_list = cur_states_dropna[\"ref_state\"].tolist()\n",
    "\n",
    "with open(\"cur_states.npy\", \"wb\") as f:\n",
    "    np.save(f, np.array(cur_states_list))\n",
    "with open(\"ref_states.npy\", \"wb\") as f:\n",
    "    np.save(f, np.array(ref_states_list))"
   ]
  },
  {
   "cell_type": "code",
   "execution_count": null,
   "id": "d6dc0495",
   "metadata": {},
   "outputs": [],
   "source": []
  },
  {
   "cell_type": "code",
   "execution_count": null,
   "id": "fe806755",
   "metadata": {},
   "outputs": [],
   "source": []
  }
 ],
 "metadata": {
  "kernelspec": {
   "display_name": "Python 3 (ipykernel)",
   "language": "python",
   "name": "python3"
  },
  "language_info": {
   "codemirror_mode": {
    "name": "ipython",
    "version": 3
   },
   "file_extension": ".py",
   "mimetype": "text/x-python",
   "name": "python",
   "nbconvert_exporter": "python",
   "pygments_lexer": "ipython3",
   "version": "3.8.5"
  }
 },
 "nbformat": 4,
 "nbformat_minor": 5
}
